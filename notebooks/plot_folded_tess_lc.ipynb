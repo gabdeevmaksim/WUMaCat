{
 "cells": [
  {
   "cell_type": "code",
   "execution_count": 1,
   "metadata": {},
   "outputs": [],
   "source": [
    "import matplotlib.pyplot as plt\n",
    "from astropy.table import Table\n",
    "import numpy as np\n",
    "\n",
    "def plot_lightcurve(filename):\n",
    "    \"\"\"\n",
    "    Plots a light curve from a CSV file containing phase and normalized flux.\n",
    "\n",
    "    Args:\n",
    "        filename (str): Path to the CSV file.\n",
    "    \"\"\"\n",
    "    try:\n",
    "        table = Table.read(f\"~/Max_astro/Slovakia/WUMacat/{filename}\", format='csv')\n",
    "\n",
    "        if 'phase' not in table.colnames or 'normalized_flux' not in table.colnames:\n",
    "            raise ValueError(\"Input file must contain 'phase' and 'normalized_flux' columns.\")\n",
    "        \n",
    "        phase = table['phase']\n",
    "        normalized_flux = table['normalized_flux']\n",
    "\n",
    "        plt.figure(figsize=(10, 6))  # Adjust figure size as needed\n",
    "        plt.plot(phase, normalized_flux, marker='.', linestyle='-', markersize=5)\n",
    "        plt.xlabel(\"Phase\")\n",
    "        plt.ylabel(\"Normalized Flux\")\n",
    "        plt.title(f\"Light Curve: {filename}\")\n",
    "        plt.grid(True)\n",
    "        plt.gca().invert_yaxis() # Invert y-axis\n",
    "        plt.show()\n",
    "\n",
    "    except FileNotFoundError:\n",
    "        print(f\"Error: File not found: {filename}\")\n",
    "    except ValueError as e:\n",
    "        print(f\"Error: {e}\")\n",
    "    except Exception as e:\n",
    "        print(f\"An unexpected error occurred: {e}\")"
   ]
  },
  {
   "cell_type": "code",
   "execution_count": 2,
   "metadata": {},
   "outputs": [
    {
     "name": "stdout",
     "output_type": "stream",
     "text": [
      "Error: File not found: tess_lc_1SWASP J034501.24+493659.9_vsx_jdmin.csv\n"
     ]
    }
   ],
   "source": [
    "plot_lightcurve('tess_lc_1SWASP J034501.24+493659.9_vsx_jdmin.csv')"
   ]
  },
  {
   "cell_type": "code",
   "execution_count": null,
   "metadata": {},
   "outputs": [],
   "source": []
  }
 ],
 "metadata": {
  "kernelspec": {
   "display_name": ".venv",
   "language": "python",
   "name": "python3"
  },
  "language_info": {
   "codemirror_mode": {
    "name": "ipython",
    "version": 3
   },
   "file_extension": ".py",
   "mimetype": "text/x-python",
   "name": "python",
   "nbconvert_exporter": "python",
   "pygments_lexer": "ipython3",
   "version": "3.12.8"
  }
 },
 "nbformat": 4,
 "nbformat_minor": 2
}
