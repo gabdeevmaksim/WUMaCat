{
 "cells": [
  {
   "cell_type": "code",
   "execution_count": 1,
   "metadata": {},
   "outputs": [
    {
     "name": "stdout",
     "output_type": "stream",
     "text": [
      "Could not import regions, which is required for some of the functionalities of this module.\n"
     ]
    }
   ],
   "source": [
    "from astropy import units as u\n",
    "from astroquery.xmatch import XMatch\n",
    "from astropy.table import Table"
   ]
  },
  {
   "cell_type": "code",
   "execution_count": 11,
   "metadata": {},
   "outputs": [],
   "source": [
    "XMatch.clear_cache()"
   ]
  },
  {
   "cell_type": "code",
   "execution_count": 5,
   "metadata": {},
   "outputs": [],
   "source": [
    "input_table = Table.read('~/Max_astro/Slovakia/WUMaCat/data/SP_cross_with_gaia.ecsv', format='ascii.ecsv')\n",
    "\n",
    "# Create sub_table for crossmatch\n",
    "sub_table = input_table[['name', 'ra', 'dec']]"
   ]
  },
  {
   "cell_type": "code",
   "execution_count": 36,
   "metadata": {},
   "outputs": [
    {
     "ename": "InvalidQueryError",
     "evalue": "Message: Column \"_tab1_15\" not found in [_RAJ2000, _DEJ2000, OID, n_OID, Name, V, Type, l_max, max, u_max, n_max, f_min, l_min, min, u_min, n_min, l_Period, Period, u_Period, Sp, RAJ2000, DEJ2000].\n\t\t Trace:\ncds.xmatch.exception.XMatchException: Column \"_tab1_15\" not found in [_RAJ2000, _DEJ2000, OID, n_OID, Name, V, Type, l_max, max, u_max, n_max, f_min, l_min, min, u_min, n_min, l_Period, Period, u_Period, Sp, RAJ2000, DEJ2000].\n\tat cds.xmatch.stilt.StarTableHandler.checkColNames(StarTableHandler.java:139)\n\tat cds.xmatch.XMatchImplSS.prepareCorrelation(XMatchImplSS.java:116)\n\tat cds.xmatch.XMatchImplAbstract.correlate(XMatchImplAbstract.java:182)\n\tat cds.xmatch.servlet.SyncXMatch.exec(SyncXMatch.java:690)\n\tat cds.xmatch.servlet.SyncXMatch.doPost(SyncXMatch.java:476)\n\tat javax.servlet.http.HttpServlet.service(HttpServlet.java:650)\n\tat javax.servlet.http.HttpServlet.service(HttpServlet.java:731)\n\tat org.apache.catalina.core.ApplicationFilterChain.internalDoFilter(ApplicationFilterChain.java:303)\n\tat org.apache.catalina.core.ApplicationFilterChain.doFilter(ApplicationFilterChain.java:208)\n\tat org.apache.tomcat.websocket.server.WsFilter.doFilter(WsFilter.java:52)\n\tat org.apache.catalina.core.ApplicationFilterChain.internalDoFilter(ApplicationFilterChain.java:241)\n\tat org.apache.catalina.core.ApplicationFilterChain.doFilter(ApplicationFilterChain.java:208)\n\tat org.apache.catalina.core.StandardWrapperValve.invoke(StandardWrapperValve.java:218)\n\tat org.apache.catalina.core.StandardContextValve.invoke(StandardContextValve.java:110)\n\tat org.apache.catalina.authenticator.AuthenticatorBase.invoke(AuthenticatorBase.java:498)\n\tat org.apache.catalina.core.StandardHostValve.invoke(StandardHostValve.java:169)\n\tat org.apache.catalina.valves.ErrorReportValve.invoke(ErrorReportValve.java:103)\n\tat org.apache.catalina.valves.AccessLogValve.invoke(AccessLogValve.java:962)\n\tat org.apache.catalina.core.StandardEngineValve.invoke(StandardEngineValve.java:116)\n\tat org.apache.catalina.connector.CoyoteAdapter.service(CoyoteAdapter.java:445)\n\tat org.apache.coyote.http11.AbstractHttp11Processor.process(AbstractHttp11Processor.java:1091)\n\tat org.apache.coyote.AbstractProtocol$AbstractConnectionHandler.process(AbstractProtocol.java:637)\n\tat org.apache.tomcat.util.net.AprEndpoint$SocketWithOptionsProcessor.run(AprEndpoint.java:2486)\n\tat java.base/java.util.concurrent.ThreadPoolExecutor.runWorker(ThreadPoolExecutor.java:1135)\n\tat java.base/java.util.concurrent.ThreadPoolExecutor$Worker.run(ThreadPoolExecutor.java:635)\n\tat org.apache.tomcat.util.threads.TaskThread$WrappingRunnable.run(TaskThread.java:61)\n\tat java.base/java.lang.Thread.run(Thread.java:844)",
     "output_type": "error",
     "traceback": [
      "\u001b[0;31m---------------------------------------------------------------------------\u001b[0m",
      "\u001b[0;31mHTTPError\u001b[0m                                 Traceback (most recent call last)",
      "File \u001b[0;32m~/Max_astro/Slovakia/WUMaCat/.venv/lib/python3.12/site-packages/astroquery/xmatch/core.py:115\u001b[0m, in \u001b[0;36mXMatchClass.query_async\u001b[0;34m(self, cat1, cat2, max_distance, colRA1, colDec1, colRA2, colDec2, area, cache, get_query_payload, **kwargs)\u001b[0m\n\u001b[1;32m    114\u001b[0m \u001b[38;5;28;01mtry\u001b[39;00m:\n\u001b[0;32m--> 115\u001b[0m     \u001b[43mresponse\u001b[49m\u001b[38;5;241;43m.\u001b[39;49m\u001b[43mraise_for_status\u001b[49m\u001b[43m(\u001b[49m\u001b[43m)\u001b[49m\n\u001b[1;32m    116\u001b[0m \u001b[38;5;28;01mexcept\u001b[39;00m HTTPError \u001b[38;5;28;01mas\u001b[39;00m err:\n",
      "File \u001b[0;32m~/Max_astro/Slovakia/WUMaCat/.venv/lib/python3.12/site-packages/requests/models.py:1024\u001b[0m, in \u001b[0;36mResponse.raise_for_status\u001b[0;34m(self)\u001b[0m\n\u001b[1;32m   1023\u001b[0m \u001b[38;5;28;01mif\u001b[39;00m http_error_msg:\n\u001b[0;32m-> 1024\u001b[0m     \u001b[38;5;28;01mraise\u001b[39;00m HTTPError(http_error_msg, response\u001b[38;5;241m=\u001b[39m\u001b[38;5;28mself\u001b[39m)\n",
      "\u001b[0;31mHTTPError\u001b[0m: 400 Client Error: Mauvaise Requête for url: http://cdsxmatch.u-strasbg.fr/xmatch/api/v1/sync",
      "\nThe above exception was the direct cause of the following exception:\n",
      "\u001b[0;31mInvalidQueryError\u001b[0m                         Traceback (most recent call last)",
      "Cell \u001b[0;32mIn[36], line 3\u001b[0m\n\u001b[1;32m      1\u001b[0m cat2 \u001b[38;5;241m=\u001b[39m \u001b[38;5;124m'\u001b[39m\u001b[38;5;124mvizier:B/vsx/vsx\u001b[39m\u001b[38;5;124m'\u001b[39m\n\u001b[1;32m      2\u001b[0m max_distance\u001b[38;5;241m=\u001b[39m\u001b[38;5;241m1\u001b[39m \u001b[38;5;241m*\u001b[39m u\u001b[38;5;241m.\u001b[39marcsec\n\u001b[0;32m----> 3\u001b[0m table \u001b[38;5;241m=\u001b[39m \u001b[43mXMatch\u001b[49m\u001b[38;5;241;43m.\u001b[39;49m\u001b[43mquery\u001b[49m\u001b[43m(\u001b[49m\u001b[43mcat1\u001b[49m\u001b[38;5;241;43m=\u001b[39;49m\u001b[43msub_table\u001b[49m\u001b[43m,\u001b[49m\u001b[43m \u001b[49m\n\u001b[1;32m      4\u001b[0m \u001b[43m                            \u001b[49m\u001b[43mcat2\u001b[49m\u001b[38;5;241;43m=\u001b[39;49m\u001b[43mcat2\u001b[49m\u001b[43m,\u001b[49m\u001b[43m \u001b[49m\n\u001b[1;32m      5\u001b[0m \u001b[43m                            \u001b[49m\u001b[43mmax_distance\u001b[49m\u001b[38;5;241;43m=\u001b[39;49m\u001b[43mmax_distance\u001b[49m\u001b[43m,\u001b[49m\u001b[43m \u001b[49m\n\u001b[1;32m      6\u001b[0m \u001b[43m                            \u001b[49m\u001b[43mcolRA1\u001b[49m\u001b[38;5;241;43m=\u001b[39;49m\u001b[38;5;124;43m'\u001b[39;49m\u001b[38;5;124;43mra\u001b[39;49m\u001b[38;5;124;43m'\u001b[39;49m\u001b[43m,\u001b[49m\u001b[43m \u001b[49m\n\u001b[1;32m      7\u001b[0m \u001b[43m                            \u001b[49m\u001b[43mcolDec1\u001b[49m\u001b[38;5;241;43m=\u001b[39;49m\u001b[38;5;124;43m'\u001b[39;49m\u001b[38;5;124;43mdec\u001b[39;49m\u001b[38;5;124;43m'\u001b[39;49m\u001b[43m,\u001b[49m\n\u001b[1;32m      8\u001b[0m \u001b[43m                            \u001b[49m\u001b[43mcols2\u001b[49m\u001b[43m \u001b[49m\u001b[38;5;241;43m=\u001b[39;49m\u001b[43m \u001b[49m\u001b[38;5;124;43m'\u001b[39;49m\u001b[38;5;124;43m_tab1_15\u001b[39;49m\u001b[38;5;124;43m'\u001b[39;49m\u001b[43m)\u001b[49m\n",
      "File \u001b[0;32m~/Max_astro/Slovakia/WUMaCat/.venv/lib/python3.12/site-packages/astroquery/xmatch/core.py:76\u001b[0m, in \u001b[0;36mXMatchClass.query\u001b[0;34m(self, cat1, cat2, max_distance, colRA1, colDec1, colRA2, colDec2, area, cache, get_query_payload, **kwargs)\u001b[0m\n\u001b[1;32m     27\u001b[0m \u001b[38;5;28;01mdef\u001b[39;00m \u001b[38;5;21mquery\u001b[39m(\u001b[38;5;28mself\u001b[39m, cat1, cat2, max_distance, \u001b[38;5;241m*\u001b[39m,\n\u001b[1;32m     28\u001b[0m           colRA1\u001b[38;5;241m=\u001b[39m\u001b[38;5;28;01mNone\u001b[39;00m, colDec1\u001b[38;5;241m=\u001b[39m\u001b[38;5;28;01mNone\u001b[39;00m, colRA2\u001b[38;5;241m=\u001b[39m\u001b[38;5;28;01mNone\u001b[39;00m, colDec2\u001b[38;5;241m=\u001b[39m\u001b[38;5;28;01mNone\u001b[39;00m,\n\u001b[1;32m     29\u001b[0m           area\u001b[38;5;241m=\u001b[39m\u001b[38;5;124m'\u001b[39m\u001b[38;5;124mallsky\u001b[39m\u001b[38;5;124m'\u001b[39m, cache\u001b[38;5;241m=\u001b[39m\u001b[38;5;28;01mTrue\u001b[39;00m, get_query_payload\u001b[38;5;241m=\u001b[39m\u001b[38;5;28;01mFalse\u001b[39;00m, \u001b[38;5;241m*\u001b[39m\u001b[38;5;241m*\u001b[39mkwargs):\n\u001b[1;32m     30\u001b[0m \u001b[38;5;250m    \u001b[39m\u001b[38;5;124;03m\"\"\"\u001b[39;00m\n\u001b[1;32m     31\u001b[0m \u001b[38;5;124;03m    Query the `CDS cross-match service\u001b[39;00m\n\u001b[1;32m     32\u001b[0m \u001b[38;5;124;03m    <http://cdsxmatch.u-strasbg.fr/xmatch>`_ by finding matches between\u001b[39;00m\n\u001b[0;32m   (...)\u001b[0m\n\u001b[1;32m     74\u001b[0m \u001b[38;5;124;03m        Query results table\u001b[39;00m\n\u001b[1;32m     75\u001b[0m \u001b[38;5;124;03m    \"\"\"\u001b[39;00m\n\u001b[0;32m---> 76\u001b[0m     response \u001b[38;5;241m=\u001b[39m \u001b[38;5;28;43mself\u001b[39;49m\u001b[38;5;241;43m.\u001b[39;49m\u001b[43mquery_async\u001b[49m\u001b[43m(\u001b[49m\u001b[43mcat1\u001b[49m\u001b[43m,\u001b[49m\u001b[43m \u001b[49m\u001b[43mcat2\u001b[49m\u001b[43m,\u001b[49m\u001b[43m \u001b[49m\u001b[43mmax_distance\u001b[49m\u001b[43m,\u001b[49m\u001b[43m \u001b[49m\u001b[43mcolRA1\u001b[49m\u001b[38;5;241;43m=\u001b[39;49m\u001b[43mcolRA1\u001b[49m\u001b[43m,\u001b[49m\u001b[43m \u001b[49m\u001b[43mcolDec1\u001b[49m\u001b[38;5;241;43m=\u001b[39;49m\u001b[43mcolDec1\u001b[49m\u001b[43m,\u001b[49m\n\u001b[1;32m     77\u001b[0m \u001b[43m                                \u001b[49m\u001b[43mcolRA2\u001b[49m\u001b[38;5;241;43m=\u001b[39;49m\u001b[43mcolRA2\u001b[49m\u001b[43m,\u001b[49m\u001b[43m \u001b[49m\u001b[43mcolDec2\u001b[49m\u001b[38;5;241;43m=\u001b[39;49m\u001b[43mcolDec2\u001b[49m\u001b[43m,\u001b[49m\u001b[43m \u001b[49m\u001b[43marea\u001b[49m\u001b[38;5;241;43m=\u001b[39;49m\u001b[43marea\u001b[49m\u001b[43m,\u001b[49m\u001b[43m \u001b[49m\u001b[43mcache\u001b[49m\u001b[38;5;241;43m=\u001b[39;49m\u001b[43mcache\u001b[49m\u001b[43m,\u001b[49m\n\u001b[1;32m     78\u001b[0m \u001b[43m                                \u001b[49m\u001b[43mget_query_payload\u001b[49m\u001b[38;5;241;43m=\u001b[39;49m\u001b[43mget_query_payload\u001b[49m\u001b[43m,\u001b[49m\n\u001b[1;32m     79\u001b[0m \u001b[43m                                \u001b[49m\u001b[38;5;241;43m*\u001b[39;49m\u001b[38;5;241;43m*\u001b[39;49m\u001b[43mkwargs\u001b[49m\u001b[43m)\u001b[49m\n\u001b[1;32m     80\u001b[0m     \u001b[38;5;28;01mif\u001b[39;00m get_query_payload:\n\u001b[1;32m     81\u001b[0m         \u001b[38;5;28;01mreturn\u001b[39;00m response\n",
      "File \u001b[0;32m~/Max_astro/Slovakia/WUMaCat/.venv/lib/python3.12/site-packages/astroquery/xmatch/core.py:119\u001b[0m, in \u001b[0;36mXMatchClass.query_async\u001b[0;34m(self, cat1, cat2, max_distance, colRA1, colDec1, colRA2, colDec2, area, cache, get_query_payload, **kwargs)\u001b[0m\n\u001b[1;32m    117\u001b[0m     error_votable \u001b[38;5;241m=\u001b[39m votable\u001b[38;5;241m.\u001b[39mparse(BytesIO(response\u001b[38;5;241m.\u001b[39mcontent))\n\u001b[1;32m    118\u001b[0m     error_reason \u001b[38;5;241m=\u001b[39m error_votable\u001b[38;5;241m.\u001b[39mget_info_by_id(\u001b[38;5;124m'\u001b[39m\u001b[38;5;124mQUERY_STATUS\u001b[39m\u001b[38;5;124m'\u001b[39m)\u001b[38;5;241m.\u001b[39mcontent\n\u001b[0;32m--> 119\u001b[0m     \u001b[38;5;28;01mraise\u001b[39;00m InvalidQueryError(error_reason) \u001b[38;5;28;01mfrom\u001b[39;00m \u001b[38;5;21;01merr\u001b[39;00m\n\u001b[1;32m    121\u001b[0m \u001b[38;5;28;01mreturn\u001b[39;00m response\n",
      "\u001b[0;31mInvalidQueryError\u001b[0m: Message: Column \"_tab1_15\" not found in [_RAJ2000, _DEJ2000, OID, n_OID, Name, V, Type, l_max, max, u_max, n_max, f_min, l_min, min, u_min, n_min, l_Period, Period, u_Period, Sp, RAJ2000, DEJ2000].\n\t\t Trace:\ncds.xmatch.exception.XMatchException: Column \"_tab1_15\" not found in [_RAJ2000, _DEJ2000, OID, n_OID, Name, V, Type, l_max, max, u_max, n_max, f_min, l_min, min, u_min, n_min, l_Period, Period, u_Period, Sp, RAJ2000, DEJ2000].\n\tat cds.xmatch.stilt.StarTableHandler.checkColNames(StarTableHandler.java:139)\n\tat cds.xmatch.XMatchImplSS.prepareCorrelation(XMatchImplSS.java:116)\n\tat cds.xmatch.XMatchImplAbstract.correlate(XMatchImplAbstract.java:182)\n\tat cds.xmatch.servlet.SyncXMatch.exec(SyncXMatch.java:690)\n\tat cds.xmatch.servlet.SyncXMatch.doPost(SyncXMatch.java:476)\n\tat javax.servlet.http.HttpServlet.service(HttpServlet.java:650)\n\tat javax.servlet.http.HttpServlet.service(HttpServlet.java:731)\n\tat org.apache.catalina.core.ApplicationFilterChain.internalDoFilter(ApplicationFilterChain.java:303)\n\tat org.apache.catalina.core.ApplicationFilterChain.doFilter(ApplicationFilterChain.java:208)\n\tat org.apache.tomcat.websocket.server.WsFilter.doFilter(WsFilter.java:52)\n\tat org.apache.catalina.core.ApplicationFilterChain.internalDoFilter(ApplicationFilterChain.java:241)\n\tat org.apache.catalina.core.ApplicationFilterChain.doFilter(ApplicationFilterChain.java:208)\n\tat org.apache.catalina.core.StandardWrapperValve.invoke(StandardWrapperValve.java:218)\n\tat org.apache.catalina.core.StandardContextValve.invoke(StandardContextValve.java:110)\n\tat org.apache.catalina.authenticator.AuthenticatorBase.invoke(AuthenticatorBase.java:498)\n\tat org.apache.catalina.core.StandardHostValve.invoke(StandardHostValve.java:169)\n\tat org.apache.catalina.valves.ErrorReportValve.invoke(ErrorReportValve.java:103)\n\tat org.apache.catalina.valves.AccessLogValve.invoke(AccessLogValve.java:962)\n\tat org.apache.catalina.core.StandardEngineValve.invoke(StandardEngineValve.java:116)\n\tat org.apache.catalina.connector.CoyoteAdapter.service(CoyoteAdapter.java:445)\n\tat org.apache.coyote.http11.AbstractHttp11Processor.process(AbstractHttp11Processor.java:1091)\n\tat org.apache.coyote.AbstractProtocol$AbstractConnectionHandler.process(AbstractProtocol.java:637)\n\tat org.apache.tomcat.util.net.AprEndpoint$SocketWithOptionsProcessor.run(AprEndpoint.java:2486)\n\tat java.base/java.util.concurrent.ThreadPoolExecutor.runWorker(ThreadPoolExecutor.java:1135)\n\tat java.base/java.util.concurrent.ThreadPoolExecutor$Worker.run(ThreadPoolExecutor.java:635)\n\tat org.apache.tomcat.util.threads.TaskThread$WrappingRunnable.run(TaskThread.java:61)\n\tat java.base/java.lang.Thread.run(Thread.java:844)"
     ]
    }
   ],
   "source": [
    "cat2 = 'vizier:B/vsx/vsx'\n",
    "max_distance=1 * u.arcsec\n",
    "table = XMatch.query(cat1=sub_table, \n",
    "                            cat2=cat2, \n",
    "                            max_distance=max_distance, \n",
    "                            colRA1='ra', \n",
    "                            colDec1='dec')"
   ]
  },
  {
   "cell_type": "code",
   "execution_count": 30,
   "metadata": {},
   "outputs": [
    {
     "name": "stdout",
     "output_type": "stream",
     "text": [
      "<Table length=112>\n",
      "  name    dtype   unit                                                                                                                description                                                                                                              \n",
      "-------- ------- ------ ---------------------------------------------------------------------------------------------------------------------------------------------------------------------------------------------------------------------------------------\n",
      " angDist float64 arcsec                                                                                                                                                                                                           Xmatch distance in arcseconds\n",
      "    name   str26                                                                                                                                                                                                                                               \n",
      "      ra float64                                                                                                                                                                                                                                               \n",
      "     dec float64                                                                                                                                                                                                                                               \n",
      "_RAJ2000 float64    deg Right ascension (FK5, Equinox=J2000.0) (computed by VizieR, not part of the original data. The format may include more digits than the original data because of internal accuracy requirements in VizieR and across other CDS services)\n",
      "_DEJ2000 float64    deg     Declination (FK5, Equinox=J2000.0) (computed by VizieR, not part of the original data. The format may include more digits than the original data because of internal accuracy requirements in VizieR and across other CDS services)\n",
      "     OID   int32                                                                                                                                                               [1/2390635] Internal identifier, can be used to link out to the VSX database (1)\n",
      "   n_OID    str1                                                                                                                                                                                                 VizieR added column, not part of original data\n",
      "    Name   str30                                                                                                                                                                                                                       Variable star identifier\n",
      "       V   int16                                                                                                                                                                                                                 Variability flag (2) (VarFlag)\n",
      "    Type   str29                                                                                                                                        ? Variability type, ariability type, as in GCVS catalog Variability type (see details of VSX type list)\n",
      "   l_max    str1                                                                                                                                                                                                           ? Limit flag on max (LimitFlagOnMax)\n",
      "     max float32    mag                                                                                                                                                                                [-6.0/25.2]? Magnitude at maximum, or amplitude (MagMax)\n",
      "   u_max    str1                                                                                                                                                                                                 ? Uncertainty flag on max (MaxUncertaintyFlag)\n",
      "   n_max    str7                                                                                                                                                                                                  ? Passband on max magnitude (4) (MaxPassband)\n",
      "   f_min    str1                                                                                                                                                                                               ? Flag to indicate an amplitude (MinIsAmplitude)\n",
      "   l_min    str1                                                                                                                                                                                                           ? Limit flag on min (LimitFlagOnMin)\n",
      "     min float32    mag                                                                                                                                                                               [-0.02/28.0]? Magnitude at minimum, or amplitude (MagMin)\n",
      "   u_min    str1                                                                                                                                                                                                 ? Uncertainty flag on min (MinUncertaintyFlag)\n",
      "   n_min    str8                                                                                                                                                                                                      ? Passband on min magnitude (MinPassband)\n",
      "l_Period    str1                                                                                                                                                                                                 ? Limit flag on period (3) (LimitFlagOnPeriod)\n",
      "  Period float64      d                                                                                                                                                                                           [0.0/35320.0]? Period of the variable in days\n",
      "u_Period    str1                                                                                                                                                                                       ? Uncertainty flag on Period (3) (PeriodUncertaintyFlag)\n",
      "      Sp   str26                                                                                                                                                                                                                 ? Spectral type (SpectralType)\n",
      " RAJ2000 float64    deg                                                                                                                                                                                                     [0.0/360.0] Right ascension (J2000)\n",
      " DEJ2000 float64    deg                                                                                                                                                                                                      [-89.87/89.44] Declination (J2000)\n"
     ]
    }
   ],
   "source": [
    "table.info()"
   ]
  },
  {
   "cell_type": "code",
   "execution_count": 51,
   "metadata": {},
   "outputs": [
    {
     "name": "stdout",
     "output_type": "stream",
     "text": [
      "2453904.686\n"
     ]
    }
   ],
   "source": [
    "from astroquery.vizier import Vizier\n",
    "\n",
    "\n",
    "catalog_id = 'B/vsx/vsx'  # Replace with your desired catalog ID\n",
    "\n",
    "v = Vizier(columns=['all'])  # Use 'all' to get all columns\n",
    "# Set row limit (optional):\n",
    "v.ROW_LIMIT = -1  # Limit to 10,000 rows (remove the limit to get all rows)\n",
    "\n",
    "\n",
    "name = sub_table['name'][2]\n",
    "\n",
    "result = v.query_object(name, radius=1 * u.arcsec, catalog='B/vsx/vsx')\n",
    "if result and len(result[0]) > 0:\n",
    "    jd_min = result[0]['_tab1_15'][0]\n",
    "    print(jd_min)\n",
    "\n",
    "#catalogs = v.get_catalogs(catalog_id)"
   ]
  },
  {
   "cell_type": "code",
   "execution_count": 49,
   "metadata": {},
   "outputs": [
    {
     "data": {
      "text/html": [
       "<div><i>Table length=1</i>\n",
       "<table id=\"table4563771248\" class=\"table-striped table-bordered table-condensed\">\n",
       "<thead><tr><th>_r</th><th>recno</th><th>OID</th><th>n_OID</th><th>Name</th><th>V</th><th>Type</th><th>l_max</th><th>max</th><th>u_max</th><th>n_max</th><th>f_min</th><th>l_min</th><th>min</th><th>u_min</th><th>n_min</th><th>_tab1_15</th><th>u_Epoch</th><th>l_Period</th><th>Period</th><th>u_Period</th><th>Sp</th><th>RAJ2000</th><th>DEJ2000</th></tr></thead>\n",
       "<thead><tr><th></th><th></th><th></th><th></th><th></th><th></th><th></th><th></th><th>mag</th><th></th><th></th><th></th><th></th><th>mag</th><th></th><th></th><th>d</th><th></th><th></th><th>d</th><th></th><th></th><th>deg</th><th>deg</th></tr></thead>\n",
       "<thead><tr><th>float64</th><th>int32</th><th>int32</th><th>str1</th><th>str30</th><th>uint8</th><th>str30</th><th>str1</th><th>float32</th><th>str1</th><th>str7</th><th>str1</th><th>str1</th><th>float32</th><th>str1</th><th>str8</th><th>float64</th><th>str1</th><th>str1</th><th>float64</th><th>str1</th><th>str26</th><th>float64</th><th>float64</th></tr></thead>\n",
       "<tr><td>0.0011</td><td>372662</td><td>206355</td><td>B</td><td>V0442 UMa</td><td>0</td><td>EW</td><td></td><td>10.990</td><td></td><td>V</td><td>Y</td><td></td><td>0.310</td><td></td><td>V</td><td>2456288.87880</td><td></td><td></td><td>0.227713800000</td><td></td><td>K3V+K3V</td><td>142.54546</td><td>53.64956</td></tr>\n",
       "</table></div>"
      ],
      "text/plain": [
       "<Table length=1>\n",
       "   _r   recno   OID   n_OID    Name   ... u_Period    Sp    RAJ2000   DEJ2000 \n",
       "                                      ...                     deg       deg   \n",
       "float64 int32  int32   str1   str30   ...   str1    str26   float64   float64 \n",
       "------- ------ ------ ----- --------- ... -------- ------- --------- ---------\n",
       " 0.0011 372662 206355     B V0442 UMa ...          K3V+K3V 142.54546  53.64956"
      ]
     },
     "execution_count": 49,
     "metadata": {},
     "output_type": "execute_result"
    }
   ],
   "source": [
    "result[0]"
   ]
  },
  {
   "cell_type": "code",
   "execution_count": null,
   "metadata": {},
   "outputs": [],
   "source": []
  }
 ],
 "metadata": {
  "kernelspec": {
   "display_name": ".venv",
   "language": "python",
   "name": "python3"
  },
  "language_info": {
   "codemirror_mode": {
    "name": "ipython",
    "version": 3
   },
   "file_extension": ".py",
   "mimetype": "text/x-python",
   "name": "python",
   "nbconvert_exporter": "python",
   "pygments_lexer": "ipython3",
   "version": "3.12.8"
  }
 },
 "nbformat": 4,
 "nbformat_minor": 2
}
